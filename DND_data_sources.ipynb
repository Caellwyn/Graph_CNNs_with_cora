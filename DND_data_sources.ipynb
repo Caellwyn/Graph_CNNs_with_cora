{
  "nbformat": 4,
  "nbformat_minor": 0,
  "metadata": {
    "colab": {
      "name": "DND_data_sources.ipynb",
      "private_outputs": true,
      "provenance": [],
      "authorship_tag": "ABX9TyMLNaUVqFrlAXW48dXOcbRo",
      "include_colab_link": true
    },
    "kernelspec": {
      "name": "python3",
      "display_name": "Python 3"
    },
    "language_info": {
      "name": "python"
    }
  },
  "cells": [
    {
      "cell_type": "markdown",
      "metadata": {
        "id": "view-in-github",
        "colab_type": "text"
      },
      "source": [
        "<a href=\"https://colab.research.google.com/github/Caellwyn/Graph_CNNs_with_cora/blob/main/DND_data_sources.ipynb\" target=\"_parent\"><img src=\"https://colab.research.google.com/assets/colab-badge.svg\" alt=\"Open In Colab\"/></a>"
      ]
    },
    {
      "cell_type": "code",
      "metadata": {
        "id": "n2-KtYeEdwRs"
      },
      "source": [
        "import pandas as pd\n",
        "\n"
      ],
      "execution_count": null,
      "outputs": []
    },
    {
      "cell_type": "code",
      "metadata": {
        "id": "uVU7vv5reKKk"
      },
      "source": [
        "chars = pd.read_table('https://raw.githubusercontent.com/oganm/dndstats/master/docs/uniqueTable.tsv')\n",
        "feats = chars['feats'].str.split('|', n=-1, expand=True)\n",
        "\n",
        "unique_feats = set()\n",
        "for col in feats.columns:\n",
        "     unique_feats = unique_feats.union(feats[col].unique())\n",
        "unique_feats"
      ],
      "execution_count": null,
      "outputs": []
    },
    {
      "cell_type": "code",
      "metadata": {
        "id": "4mglBiIViPVa"
      },
      "source": [
        ""
      ],
      "execution_count": null,
      "outputs": []
    }
  ]
}