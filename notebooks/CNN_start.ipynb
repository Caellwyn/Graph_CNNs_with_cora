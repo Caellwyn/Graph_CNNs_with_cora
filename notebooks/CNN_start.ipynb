{
 "cells": [
  {
   "cell_type": "code",
   "execution_count": 3,
   "id": "4e31985e",
   "metadata": {},
   "outputs": [
    {
     "ename": "ModuleNotFoundError",
     "evalue": "No module named 'keras_dgl'",
     "output_type": "error",
     "traceback": [
      "\u001b[1;31m---------------------------------------------------------------------------\u001b[0m",
      "\u001b[1;31mModuleNotFoundError\u001b[0m                       Traceback (most recent call last)",
      "\u001b[1;32m<ipython-input-3-1b2ec4a6e706>\u001b[0m in \u001b[0;36m<module>\u001b[1;34m\u001b[0m\n\u001b[0;32m      9\u001b[0m \u001b[1;32mfrom\u001b[0m \u001b[0mkeras\u001b[0m\u001b[1;33m.\u001b[0m\u001b[0mregularizers\u001b[0m \u001b[1;32mimport\u001b[0m \u001b[0ml2\u001b[0m\u001b[1;33m\u001b[0m\u001b[1;33m\u001b[0m\u001b[0m\n\u001b[0;32m     10\u001b[0m \u001b[1;32mfrom\u001b[0m \u001b[0mkeras\u001b[0m\u001b[1;33m.\u001b[0m\u001b[0moptimizers\u001b[0m \u001b[1;32mimport\u001b[0m \u001b[0mAdam\u001b[0m\u001b[1;33m\u001b[0m\u001b[1;33m\u001b[0m\u001b[0m\n\u001b[1;32m---> 11\u001b[1;33m \u001b[1;32mfrom\u001b[0m \u001b[0mkeras_dgl\u001b[0m\u001b[1;33m.\u001b[0m\u001b[0mlayers\u001b[0m \u001b[1;32mimport\u001b[0m \u001b[0mGraphCNN\u001b[0m\u001b[1;33m\u001b[0m\u001b[1;33m\u001b[0m\u001b[0m\n\u001b[0m\u001b[0;32m     12\u001b[0m \u001b[1;32mimport\u001b[0m \u001b[0mkeras\u001b[0m\u001b[1;33m.\u001b[0m\u001b[0mbackend\u001b[0m \u001b[1;32mas\u001b[0m \u001b[0mK\u001b[0m\u001b[1;33m\u001b[0m\u001b[1;33m\u001b[0m\u001b[0m\n\u001b[0;32m     13\u001b[0m \u001b[1;32mfrom\u001b[0m \u001b[0mkeras\u001b[0m\u001b[1;33m.\u001b[0m\u001b[0mutils\u001b[0m \u001b[1;32mimport\u001b[0m \u001b[0mto_categorical\u001b[0m\u001b[1;33m\u001b[0m\u001b[1;33m\u001b[0m\u001b[0m\n",
      "\u001b[1;31mModuleNotFoundError\u001b[0m: No module named 'keras_dgl'"
     ]
    }
   ],
   "source": [
    "import os, sys\n",
    "sys.path.append(os.path.join(os.getcwd(), \"keras-deep-graph-learning\")) # Adding the submodule to the module search path\n",
    "sys.path.append(os.path.join(os.getcwd(), \"keras-deep-graph-learning/examples\")) # Adding the submodule to the module search path\n",
    "sys.path.append(os.path.join(os.getcwd(), \"keras-deep-graph-learning/keras_dgl\")) # Adding the submodule to the module search path\n",
    "\n",
    "import numpy as np\n",
    "from keras.layers import Dense, Activation, Dropout\n",
    "from keras.models import Model, Sequential\n",
    "from keras.regularizers import l2\n",
    "from keras.optimizers import Adam\n",
    "from keras_dgl.layers import GraphCNN\n",
    "import keras.backend as K\n",
    "from keras.utils import to_categorical\n",
    "\n",
    "import networkx as nx\n",
    "import pandas as pd"
   ]
  },
  {
   "cell_type": "code",
   "execution_count": null,
   "id": "deead21b",
   "metadata": {},
   "outputs": [],
   "source": [
    "print(\"Creating our simple sample data...\")\n",
    "A = np.array([[0,1,5], [1,0,0], [5,0,0]])\n",
    "print(A)\n",
    "X = np.array([[1,2,10], [4,3,10], [0,2,11]]) # features, whatever we have there...\n",
    "\n",
    "# Notice, if we set A = identity matrix, then we'd effectively assume no edges and just do a basic\n",
    "# MLP on the features.\n",
    "\n",
    "# We could do the same by setting the graph_conv_filter below to Id.\n",
    "\n",
    "# We could also set X to Id, and thus effectively assume no features, and in this way\n",
    "# do an \"edge\" embedding, so effectively try to understand what's connected to what.\n",
    "\n",
    "# We could then use that as feature in any way we like...\n",
    "\n",
    "Y_o_dim = np.array([1,2,1])\n",
    "Y =  to_categorical(Y_o_dim) # labels, whatever we wanna classify things into... in categorical form."
   ]
  },
  {
   "cell_type": "code",
   "execution_count": null,
   "id": "f509fa2b",
   "metadata": {},
   "outputs": [],
   "source": [
    "train_on_weight= np.array([1,1,0])\n",
    "print(\"Now we won't do any fancy preprocessing, just basic training.\")\n",
    "\n",
    "NUM_FILTERS = 1\n",
    "graph_conv_filters =  A # you may try np.eye(3)\n",
    "graph_conv_filters = K.constant(graph_conv_filters)\n",
    "\n",
    "model = Sequential()\n",
    "model.add(GraphCNN(Y.shape[1], NUM_FILTERS, graph_conv_filters, input_shape=(X.shape[1],), activation='elu', kernel_regularizer=l2(5e-4)))\n",
    "model.add(Activation('softmax'))\n",
    "model.compile(loss='categorical_crossentropy', optimizer=Adam(lr=0.01), metrics=['acc'])\n",
    "model.summary()\n",
    "\n",
    "model.fit(X, Y, batch_size=A.shape[0], sample_weight=train_on_weight, epochs=200, shuffle=False, verbose=0)\n",
    "Y_pred = model.predict(X, batch_size=A.shape[0])\n",
    "print(np.argmax(Y_pred, axis=1))"
   ]
  },
  {
   "cell_type": "code",
   "execution_count": null,
   "id": "243b1e7a",
   "metadata": {},
   "outputs": [],
   "source": [
    "\n",
    "data_dir = os.path.expanduser(\"C:/Users/caell/data_science/data_science_projects/keras-deep-graph-learning/data/cora\")\n",
    "edgelist = pd.read_csv(os.path.join(data_dir, \"cora.cites\"), sep='\\t', header=None, names=[\"target\", \"source\"])\n",
    "edgelist[\"label\"] = \"cites\"\n",
    "\n",
    "feature_names = [\"w_{}\".format(ii) for ii in range(1433)]\n",
    "column_names =  feature_names + [\"subject\"]\n",
    "node_data = pd.read_csv(os.path.join(data_dir, \"cora.content\"), sep='\\t', header=None, names=column_names)\n"
   ]
  },
  {
   "cell_type": "code",
   "execution_count": null,
   "id": "ab24d9dc",
   "metadata": {},
   "outputs": [],
   "source": [
    "edgelist"
   ]
  },
  {
   "cell_type": "code",
   "execution_count": null,
   "id": "abc609ba",
   "metadata": {},
   "outputs": [],
   "source": [
    "node_data"
   ]
  },
  {
   "cell_type": "code",
   "execution_count": null,
   "id": "bfee3adf",
   "metadata": {},
   "outputs": [],
   "source": []
  }
 ],
 "metadata": {
  "kernelspec": {
   "display_name": "graph_cnn",
   "language": "python",
   "name": "graph_cnn"
  },
  "language_info": {
   "codemirror_mode": {
    "name": "ipython",
    "version": 3
   },
   "file_extension": ".py",
   "mimetype": "text/x-python",
   "name": "python",
   "nbconvert_exporter": "python",
   "pygments_lexer": "ipython3",
   "version": "3.8.8"
  }
 },
 "nbformat": 4,
 "nbformat_minor": 5
}
